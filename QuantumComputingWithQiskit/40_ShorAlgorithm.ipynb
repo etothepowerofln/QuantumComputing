{
  "cells": [
    {
      "cell_type": "markdown",
      "metadata": {
        "id": "view-in-github",
        "colab_type": "text"
      },
      "source": [
        "<a href=\"https://colab.research.google.com/github/luizfilipisousamoura/QuantumComputing/blob/main/QuantumComputingWithQiskit/40_ShorAlgorithm.ipynb\" target=\"_parent\"><img src=\"https://colab.research.google.com/assets/colab-badge.svg\" alt=\"Open In Colab\"/></a>"
      ]
    },
    {
      "cell_type": "code",
      "source": [
        "!pip3 install qiskit"
      ],
      "metadata": {
        "colab": {
          "base_uri": "https://localhost:8080/"
        },
        "id": "cRENzDZZBZIz",
        "outputId": "c6cae211-1e2a-4e5a-9539-2a5892d8aeab"
      },
      "id": "cRENzDZZBZIz",
      "execution_count": 1,
      "outputs": [
        {
          "output_type": "stream",
          "name": "stdout",
          "text": [
            "Looking in indexes: https://pypi.org/simple, https://us-python.pkg.dev/colab-wheels/public/simple/\n",
            "Requirement already satisfied: qiskit in /usr/local/lib/python3.8/dist-packages (0.39.5)\n",
            "Requirement already satisfied: qiskit-aer==0.11.2 in /usr/local/lib/python3.8/dist-packages (from qiskit) (0.11.2)\n",
            "Requirement already satisfied: qiskit-ibmq-provider==0.19.2 in /usr/local/lib/python3.8/dist-packages (from qiskit) (0.19.2)\n",
            "Requirement already satisfied: qiskit-terra==0.22.4 in /usr/local/lib/python3.8/dist-packages (from qiskit) (0.22.4)\n",
            "Requirement already satisfied: numpy>=1.16.3 in /usr/local/lib/python3.8/dist-packages (from qiskit-aer==0.11.2->qiskit) (1.21.6)\n",
            "Requirement already satisfied: scipy>=1.0 in /usr/local/lib/python3.8/dist-packages (from qiskit-aer==0.11.2->qiskit) (1.7.3)\n",
            "Requirement already satisfied: requests>=2.19 in /usr/local/lib/python3.8/dist-packages (from qiskit-ibmq-provider==0.19.2->qiskit) (2.25.1)\n",
            "Requirement already satisfied: python-dateutil>=2.8.0 in /usr/local/lib/python3.8/dist-packages (from qiskit-ibmq-provider==0.19.2->qiskit) (2.8.2)\n",
            "Requirement already satisfied: websockets>=10.0 in /usr/local/lib/python3.8/dist-packages (from qiskit-ibmq-provider==0.19.2->qiskit) (10.4)\n",
            "Requirement already satisfied: websocket-client>=1.0.1 in /usr/local/lib/python3.8/dist-packages (from qiskit-ibmq-provider==0.19.2->qiskit) (1.4.2)\n",
            "Requirement already satisfied: requests-ntlm>=1.1.0 in /usr/local/lib/python3.8/dist-packages (from qiskit-ibmq-provider==0.19.2->qiskit) (1.1.0)\n",
            "Requirement already satisfied: urllib3>=1.21.1 in /usr/local/lib/python3.8/dist-packages (from qiskit-ibmq-provider==0.19.2->qiskit) (1.24.3)\n",
            "Requirement already satisfied: tweedledum<2.0,>=1.1 in /usr/local/lib/python3.8/dist-packages (from qiskit-terra==0.22.4->qiskit) (1.1.1)\n",
            "Requirement already satisfied: psutil>=5 in /usr/local/lib/python3.8/dist-packages (from qiskit-terra==0.22.4->qiskit) (5.4.8)\n",
            "Requirement already satisfied: ply>=3.10 in /usr/local/lib/python3.8/dist-packages (from qiskit-terra==0.22.4->qiskit) (3.11)\n",
            "Requirement already satisfied: symengine>=0.9 in /usr/local/lib/python3.8/dist-packages (from qiskit-terra==0.22.4->qiskit) (0.9.2)\n",
            "Requirement already satisfied: stevedore>=3.0.0 in /usr/local/lib/python3.8/dist-packages (from qiskit-terra==0.22.4->qiskit) (4.1.1)\n",
            "Requirement already satisfied: sympy>=1.3 in /usr/local/lib/python3.8/dist-packages (from qiskit-terra==0.22.4->qiskit) (1.7.1)\n",
            "Requirement already satisfied: retworkx>=0.11.0 in /usr/local/lib/python3.8/dist-packages (from qiskit-terra==0.22.4->qiskit) (0.12.1)\n",
            "Requirement already satisfied: dill>=0.3 in /usr/local/lib/python3.8/dist-packages (from qiskit-terra==0.22.4->qiskit) (0.3.6)\n",
            "Requirement already satisfied: six>=1.5 in /usr/local/lib/python3.8/dist-packages (from python-dateutil>=2.8.0->qiskit-ibmq-provider==0.19.2->qiskit) (1.15.0)\n",
            "Requirement already satisfied: chardet<5,>=3.0.2 in /usr/local/lib/python3.8/dist-packages (from requests>=2.19->qiskit-ibmq-provider==0.19.2->qiskit) (4.0.0)\n",
            "Requirement already satisfied: idna<3,>=2.5 in /usr/local/lib/python3.8/dist-packages (from requests>=2.19->qiskit-ibmq-provider==0.19.2->qiskit) (2.10)\n",
            "Requirement already satisfied: certifi>=2017.4.17 in /usr/local/lib/python3.8/dist-packages (from requests>=2.19->qiskit-ibmq-provider==0.19.2->qiskit) (2022.12.7)\n",
            "Requirement already satisfied: cryptography>=1.3 in /usr/local/lib/python3.8/dist-packages (from requests-ntlm>=1.1.0->qiskit-ibmq-provider==0.19.2->qiskit) (39.0.0)\n",
            "Requirement already satisfied: ntlm-auth>=1.0.2 in /usr/local/lib/python3.8/dist-packages (from requests-ntlm>=1.1.0->qiskit-ibmq-provider==0.19.2->qiskit) (1.5.0)\n",
            "Requirement already satisfied: rustworkx==0.12.1 in /usr/local/lib/python3.8/dist-packages (from retworkx>=0.11.0->qiskit-terra==0.22.4->qiskit) (0.12.1)\n",
            "Requirement already satisfied: pbr!=2.1.0,>=2.0.0 in /usr/local/lib/python3.8/dist-packages (from stevedore>=3.0.0->qiskit-terra==0.22.4->qiskit) (5.11.1)\n",
            "Requirement already satisfied: mpmath>=0.19 in /usr/local/lib/python3.8/dist-packages (from sympy>=1.3->qiskit-terra==0.22.4->qiskit) (1.2.1)\n",
            "Requirement already satisfied: cffi>=1.12 in /usr/local/lib/python3.8/dist-packages (from cryptography>=1.3->requests-ntlm>=1.1.0->qiskit-ibmq-provider==0.19.2->qiskit) (1.15.1)\n",
            "Requirement already satisfied: pycparser in /usr/local/lib/python3.8/dist-packages (from cffi>=1.12->cryptography>=1.3->requests-ntlm>=1.1.0->qiskit-ibmq-provider==0.19.2->qiskit) (2.21)\n"
          ]
        }
      ]
    },
    {
      "cell_type": "code",
      "source": [
        "!pip3 install pylatexenc"
      ],
      "metadata": {
        "colab": {
          "base_uri": "https://localhost:8080/"
        },
        "id": "jqP2M_Z-BZFt",
        "outputId": "7c523fa7-e685-48f2-b4bd-e7bbee7e60be"
      },
      "id": "jqP2M_Z-BZFt",
      "execution_count": 2,
      "outputs": [
        {
          "output_type": "stream",
          "name": "stdout",
          "text": [
            "Looking in indexes: https://pypi.org/simple, https://us-python.pkg.dev/colab-wheels/public/simple/\n",
            "Requirement already satisfied: pylatexenc in /usr/local/lib/python3.8/dist-packages (2.10)\n"
          ]
        }
      ]
    },
    {
      "cell_type": "markdown",
      "id": "cd95a92e",
      "metadata": {
        "id": "cd95a92e"
      },
      "source": [
        "## Step 1: classical computer"
      ]
    },
    {
      "cell_type": "code",
      "execution_count": 3,
      "id": "327de4ee",
      "metadata": {
        "colab": {
          "base_uri": "https://localhost:8080/"
        },
        "id": "327de4ee",
        "outputId": "9ed86dd4-609b-4501-a9b2-90b958fb0c7e"
      },
      "outputs": [
        {
          "output_type": "stream",
          "name": "stdout",
          "text": [
            "proceed to step 2\n"
          ]
        }
      ],
      "source": [
        "N = 15\n",
        "m = 7\n",
        "from math import gcd\n",
        "if gcd(m,N) != 1:\n",
        "    print('problem solved')\n",
        "else:\n",
        "    print('proceed to step 2')"
      ]
    },
    {
      "cell_type": "markdown",
      "id": "b31af126",
      "metadata": {
        "id": "b31af126"
      },
      "source": [
        "## Step 2: use a quantum computer to determine the period of f(x) = m^x mod N"
      ]
    },
    {
      "cell_type": "markdown",
      "id": "c54f63d8",
      "metadata": {
        "id": "c54f63d8"
      },
      "source": [
        "### Step 2.1"
      ]
    },
    {
      "cell_type": "code",
      "execution_count": 4,
      "id": "22f56fc5",
      "metadata": {
        "id": "22f56fc5"
      },
      "outputs": [],
      "source": [
        "from qiskit import QuantumCircuit, QuantumRegister, ClassicalRegister\n",
        "q = QuantumRegister(4)\n",
        "c = ClassicalRegister(4)\n",
        "qc = QuantumCircuit(q,c)"
      ]
    },
    {
      "cell_type": "markdown",
      "id": "008e02cf",
      "metadata": {
        "id": "008e02cf"
      },
      "source": [
        "### Step 2.2 and 2.3"
      ]
    },
    {
      "cell_type": "code",
      "execution_count": 5,
      "id": "93d18aa3",
      "metadata": {
        "id": "93d18aa3"
      },
      "outputs": [],
      "source": [
        "f = []\n",
        "for i in range(2**4):\n",
        "    f.append((m**i%N))"
      ]
    },
    {
      "cell_type": "code",
      "execution_count": 6,
      "id": "b492d4d8",
      "metadata": {
        "colab": {
          "base_uri": "https://localhost:8080/"
        },
        "id": "b492d4d8",
        "outputId": "e3a39e77-5d1c-4c9f-ecc9-fa1604fb2b79"
      },
      "outputs": [
        {
          "output_type": "execute_result",
          "data": {
            "text/plain": [
              "[1, 7, 4, 13, 1, 7, 4, 13, 1, 7, 4, 13, 1, 7, 4, 13]"
            ]
          },
          "metadata": {},
          "execution_count": 6
        }
      ],
      "source": [
        "f"
      ]
    },
    {
      "cell_type": "code",
      "execution_count": 7,
      "id": "a9d34487",
      "metadata": {
        "colab": {
          "base_uri": "https://localhost:8080/",
          "height": 282
        },
        "id": "a9d34487",
        "outputId": "3b6d4b1f-18ec-4e56-f7c4-ba04ea187ea0"
      },
      "outputs": [
        {
          "output_type": "execute_result",
          "data": {
            "text/plain": [
              "[<matplotlib.lines.Line2D at 0x7fe4c8f88be0>]"
            ]
          },
          "metadata": {},
          "execution_count": 7
        },
        {
          "output_type": "display_data",
          "data": {
            "text/plain": [
              "<Figure size 432x288 with 1 Axes>"
            ],
            "image/png": "[encoded data removed]"
          },
          "metadata": {
            "needs_background": "light"
          }
        }
      ],
      "source": [
        "import matplotlib.pyplot as plt\n",
        "import numpy as np\n",
        "x = np.arange(0,16,1)\n",
        "plt.plot(x,(m**x)%N)"
      ]
    },
    {
      "cell_type": "code",
      "execution_count": 8,
      "id": "5d8d3e31",
      "metadata": {
        "colab": {
          "base_uri": "https://localhost:8080/"
        },
        "id": "5d8d3e31",
        "outputId": "b199a2ab-511a-4a6e-d4f1-8a8470142b63"
      },
      "outputs": [
        {
          "output_type": "stream",
          "name": "stdout",
          "text": [
            "|1>|0>\n",
            "|7>|1>\n",
            "|4>|2>\n",
            "|13>|3>\n",
            "|1>|4>\n",
            "|7>|5>\n",
            "|4>|6>\n",
            "|13>|7>\n",
            "|1>|8>\n",
            "|7>|9>\n",
            "|4>|10>\n",
            "|13>|11>\n",
            "|1>|12>\n",
            "|7>|13>\n",
            "|4>|14>\n",
            "|13>|15>\n"
          ]
        }
      ],
      "source": [
        "for i in range(2**4):\n",
        "    print('|' + str(f[i]) + '>' + '|' + str(i) + '>')"
      ]
    },
    {
      "cell_type": "markdown",
      "id": "2b707282",
      "metadata": {
        "id": "2b707282"
      },
      "source": [
        "### step 2.4"
      ]
    },
    {
      "cell_type": "code",
      "execution_count": 9,
      "id": "22e050cc",
      "metadata": {
        "id": "22e050cc"
      },
      "outputs": [],
      "source": [
        "from random import choice\n",
        "#measurement = choice(f)\n",
        "measurement = 4"
      ]
    },
    {
      "cell_type": "code",
      "execution_count": 10,
      "id": "d3a09859",
      "metadata": {
        "colab": {
          "base_uri": "https://localhost:8080/"
        },
        "id": "d3a09859",
        "outputId": "0e8cb34b-fcd5-40ac-e048-408ec1b947ff"
      },
      "outputs": [
        {
          "output_type": "execute_result",
          "data": {
            "text/plain": [
              "4"
            ]
          },
          "metadata": {},
          "execution_count": 10
        }
      ],
      "source": [
        "measurement"
      ]
    },
    {
      "cell_type": "code",
      "execution_count": 11,
      "id": "40683dd5",
      "metadata": {
        "colab": {
          "base_uri": "https://localhost:8080/"
        },
        "id": "40683dd5",
        "outputId": "4709dfda-a8ba-40b8-fdf7-64832f4da99b"
      },
      "outputs": [
        {
          "output_type": "stream",
          "name": "stdout",
          "text": [
            "2 = |0010>\n",
            "6 = |0110>\n",
            "10 = |1010>\n",
            "14 = |1110>\n"
          ]
        }
      ],
      "source": [
        "amplitudes = []\n",
        "for i in range(2**4):\n",
        "    amplitudes.append(0)\n",
        "for i in range(2**4):\n",
        "    if f[i] == measurement:\n",
        "        print(str(i) + ' = |' + bin(i)[2:].zfill(4) + '>')\n",
        "        amplitudes[i]=0.5"
      ]
    },
    {
      "cell_type": "code",
      "execution_count": 12,
      "id": "9689f856",
      "metadata": {
        "colab": {
          "base_uri": "https://localhost:8080/"
        },
        "id": "9689f856",
        "outputId": "694869b2-1ac8-4ae0-f5cd-45e2e50735e0"
      },
      "outputs": [
        {
          "output_type": "execute_result",
          "data": {
            "text/plain": [
              "[0, 0, 0.5, 0, 0, 0, 0.5, 0, 0, 0, 0.5, 0, 0, 0, 0.5, 0]"
            ]
          },
          "metadata": {},
          "execution_count": 12
        }
      ],
      "source": [
        "amplitudes"
      ]
    },
    {
      "cell_type": "code",
      "execution_count": 13,
      "id": "4c22cf2b",
      "metadata": {
        "colab": {
          "base_uri": "https://localhost:8080/"
        },
        "id": "4c22cf2b",
        "outputId": "7f0fcc55-c6a5-426a-dea3-ac08b5bc8146"
      },
      "outputs": [
        {
          "output_type": "execute_result",
          "data": {
            "text/plain": [
              "<qiskit.circuit.instructionset.InstructionSet at 0x7fe4c8f644f0>"
            ]
          },
          "metadata": {},
          "execution_count": 13
        }
      ],
      "source": [
        "qc.initialize(amplitudes,[q[0],q[1],q[2],q[3]])"
      ]
    },
    {
      "cell_type": "code",
      "execution_count": 14,
      "id": "5839d60e",
      "metadata": {
        "colab": {
          "base_uri": "https://localhost:8080/",
          "height": 276
        },
        "id": "5839d60e",
        "outputId": "a09bcc00-477b-41b6-a9c5-c4b3a4adfab5"
      },
      "outputs": [
        {
          "output_type": "execute_result",
          "data": {
            "text/plain": [
              "<Figure size 400.578x325.08 with 1 Axes>"
            ],
            "image/png": "[encoded data removed]"
          },
          "metadata": {},
          "execution_count": 14
        }
      ],
      "source": [
        "qc.draw('mpl')"
      ]
    },
    {
      "cell_type": "markdown",
      "id": "802ce500",
      "metadata": {
        "id": "802ce500"
      },
      "source": [
        "### Step 2.5"
      ]
    },
    {
      "cell_type": "code",
      "execution_count": 15,
      "id": "cf87f131",
      "metadata": {
        "colab": {
          "base_uri": "https://localhost:8080/",
          "height": 276
        },
        "id": "cf87f131",
        "outputId": "9ed23ccc-7a2e-4b1e-90d1-1b0c3e165eaa"
      },
      "outputs": [
        {
          "output_type": "execute_result",
          "data": {
            "text/plain": [
              "<Figure size 520.978x325.08 with 1 Axes>"
            ],
            "image/png": "[encoded data removed]"
          },
          "metadata": {},
          "execution_count": 15
        }
      ],
      "source": [
        "from qiskit.circuit.library import QFT\n",
        "in_qft = QFT(4,inverse=True)\n",
        "qc = qc.compose(in_qft)\n",
        "qc.draw('mpl')"
      ]
    },
    {
      "cell_type": "markdown",
      "id": "32d25387",
      "metadata": {
        "id": "32d25387"
      },
      "source": [
        "### Step 2.6"
      ]
    },
    {
      "cell_type": "code",
      "execution_count": 16,
      "id": "792df065",
      "metadata": {
        "colab": {
          "base_uri": "https://localhost:8080/",
          "height": 276
        },
        "id": "792df065",
        "outputId": "e5610cc0-6069-4ec9-f1b2-0d8268a51e5a"
      },
      "outputs": [
        {
          "output_type": "execute_result",
          "data": {
            "text/plain": [
              "<Figure size 761.778x325.08 with 1 Axes>"
            ],
            "image/png": "[encoded data removed]"
          },
          "metadata": {},
          "execution_count": 16
        }
      ],
      "source": [
        "for i in range(4):\n",
        "    qc.measure(q[i],c[i])\n",
        "qc.draw('mpl')"
      ]
    },
    {
      "cell_type": "code",
      "execution_count": 17,
      "id": "ba0899f0",
      "metadata": {
        "colab": {
          "base_uri": "https://localhost:8080/",
          "height": 348
        },
        "id": "ba0899f0",
        "outputId": "3be742e2-d2ad-4136-8e39-8e0d3e6480a7"
      },
      "outputs": [
        {
          "output_type": "execute_result",
          "data": {
            "text/plain": [
              "<Figure size 504x360 with 1 Axes>"
            ],
            "image/png": "[encoded data removed]"
          },
          "metadata": {},
          "execution_count": 17
        }
      ],
      "source": [
        "from qiskit.providers.aer import QasmSimulator\n",
        "from qiskit import transpile\n",
        "from qiskit.visualization import plot_histogram\n",
        "backend = QasmSimulator()\n",
        "qc_compiled = transpile(qc, backend)\n",
        "job = backend.run(qc_compiled, shots=1024)\n",
        "result = job.result()\n",
        "counts = result.get_counts()\n",
        "plot_histogram(counts)"
      ]
    },
    {
      "cell_type": "code",
      "execution_count": 18,
      "id": "b0d20bd0",
      "metadata": {
        "id": "b0d20bd0"
      },
      "outputs": [],
      "source": [
        "def result(counts):\n",
        "    results = []\n",
        "    for key in counts.keys():\n",
        "        results.append(int(key,2))\n",
        "    return results"
      ]
    },
    {
      "cell_type": "code",
      "execution_count": 19,
      "id": "d17d5c98",
      "metadata": {
        "colab": {
          "base_uri": "https://localhost:8080/"
        },
        "id": "d17d5c98",
        "outputId": "3f026c20-3bcc-4233-f071-28c73cfa6307"
      },
      "outputs": [
        {
          "output_type": "execute_result",
          "data": {
            "text/plain": [
              "[0, 4, 8, 12]"
            ]
          },
          "metadata": {},
          "execution_count": 19
        }
      ],
      "source": [
        "result(counts)"
      ]
    },
    {
      "cell_type": "markdown",
      "id": "4fa7dbbb",
      "metadata": {
        "id": "4fa7dbbb"
      },
      "source": [
        "### Step 3: classical computer"
      ]
    },
    {
      "cell_type": "code",
      "execution_count": 20,
      "id": "f1c200f9",
      "metadata": {
        "id": "f1c200f9"
      },
      "outputs": [],
      "source": [
        "a = 2**4/result(counts)[1]"
      ]
    },
    {
      "cell_type": "code",
      "execution_count": 21,
      "id": "3201f1e6",
      "metadata": {
        "colab": {
          "base_uri": "https://localhost:8080/"
        },
        "id": "3201f1e6",
        "outputId": "47be4e9e-01a3-42ea-a0ff-36988e91711a"
      },
      "outputs": [
        {
          "output_type": "execute_result",
          "data": {
            "text/plain": [
              "4.0"
            ]
          },
          "metadata": {},
          "execution_count": 21
        }
      ],
      "source": [
        "a"
      ]
    },
    {
      "cell_type": "markdown",
      "id": "b9c54df8",
      "metadata": {
        "id": "b9c54df8"
      },
      "source": [
        "### Step 4: classical computer"
      ]
    },
    {
      "cell_type": "code",
      "execution_count": 22,
      "id": "24c93c35",
      "metadata": {
        "id": "24c93c35"
      },
      "outputs": [],
      "source": [
        "if a%2 != 0:\n",
        "    print('goto step 1')\n",
        "else:\n",
        "    x = (m**(a/2))%N"
      ]
    },
    {
      "cell_type": "code",
      "execution_count": 23,
      "id": "1e327f35",
      "metadata": {
        "colab": {
          "base_uri": "https://localhost:8080/"
        },
        "id": "1e327f35",
        "outputId": "387d5284-c277-459d-a967-bff318557b54"
      },
      "outputs": [
        {
          "output_type": "execute_result",
          "data": {
            "text/plain": [
              "4.0"
            ]
          },
          "metadata": {},
          "execution_count": 23
        }
      ],
      "source": [
        "x"
      ]
    },
    {
      "cell_type": "markdown",
      "id": "18b0de86",
      "metadata": {
        "id": "18b0de86"
      },
      "source": [
        "### Step 5: classical computer"
      ]
    },
    {
      "cell_type": "code",
      "execution_count": 24,
      "id": "7e4a23d9",
      "metadata": {
        "colab": {
          "base_uri": "https://localhost:8080/"
        },
        "id": "7e4a23d9",
        "outputId": "f3cba963-a14f-4044-efef-a9dc2827690d"
      },
      "outputs": [
        {
          "output_type": "stream",
          "name": "stdout",
          "text": [
            "5.0 3.0\n"
          ]
        }
      ],
      "source": [
        "p = x+1\n",
        "q =x-1\n",
        "print(p,q)"
      ]
    }
  ],
  "metadata": {
    "kernelspec": {
      "display_name": "Python 3 (ipykernel)",
      "language": "python",
      "name": "python3"
    },
    "language_info": {
      "codemirror_mode": {
        "name": "ipython",
        "version": 3
      },
      "file_extension": ".py",
      "mimetype": "text/x-python",
      "name": "python",
      "nbconvert_exporter": "python",
      "pygments_lexer": "ipython3",
      "version": "3.9.7"
    },
    "colab": {
      "provenance": [],
      "include_colab_link": true
    }
  },
  "nbformat": 4,
  "nbformat_minor": 5
}